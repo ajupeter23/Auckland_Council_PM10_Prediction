{
 "cells": [
  {
   "cell_type": "code",
   "execution_count": 1,
   "id": "736affc6",
   "metadata": {},
   "outputs": [
    {
     "name": "stderr",
     "output_type": "stream",
     "text": [
      "WARNING:absl:Compiled the loaded model, but the compiled metrics have yet to be built. `model.compile_metrics` will be empty until you train or evaluate the model.\n"
     ]
    },
    {
     "name": "stdout",
     "output_type": "stream",
     "text": [
      "Columns in CSV: Index(['Date', 'AC Penrose NO_MCG 24h average [µg/m³]',\n",
      "       'AC Penrose NO2_MCG 24h average [µg/m³]',\n",
      "       'AC Penrose NOX_MCG 24h average [µg/m³]',\n",
      "       'AC Penrose PM10 24h average [µg/m³]',\n",
      "       'AC Penrose PM2.5 24h average [µg/m³]', 'AC Penrose RH 24h average [%]',\n",
      "       'AC Penrose TEMP 24h average [°C]', 'AC Penrose WSP 24h average [m/s]'],\n",
      "      dtype='object')\n",
      "Columns in CSV after cleaning: Index(['AC Penrose NO_MCG 24h average [µg/m³]',\n",
      "       'AC Penrose NO2_MCG 24h average [µg/m³]',\n",
      "       'AC Penrose NOX_MCG 24h average [µg/m³]',\n",
      "       'AC Penrose PM2.5 24h average [µg/m³]', 'AC Penrose RH 24h average [%]',\n",
      "       'AC Penrose TEMP 24h average [°C]', 'AC Penrose WSP 24h average [m/s]'],\n",
      "      dtype='object')\n"
     ]
    },
    {
     "ename": "KeyError",
     "evalue": "\"Target column not found. Available columns: Index(['AC Penrose NO_MCG 24h average [µg/m³]',\\n       'AC Penrose NO2_MCG 24h average [µg/m³]',\\n       'AC Penrose NOX_MCG 24h average [µg/m³]',\\n       'AC Penrose PM2.5 24h average [µg/m³]', 'AC Penrose RH 24h average [%]',\\n       'AC Penrose TEMP 24h average [°C]', 'AC Penrose WSP 24h average [m/s]'],\\n      dtype='object')\"",
     "output_type": "error",
     "traceback": [
      "\u001b[1;31m---------------------------------------------------------------------------\u001b[0m",
      "\u001b[1;31mKeyError\u001b[0m                                  Traceback (most recent call last)",
      "Cell \u001b[1;32mIn[1], line 1\u001b[0m\n\u001b[1;32m----> 1\u001b[0m \u001b[38;5;28;01mfrom\u001b[39;00m \u001b[38;5;21;01mpm10_prediction\u001b[39;00m \u001b[38;5;28;01mimport\u001b[39;00m PM10Predictor\n\u001b[0;32m      3\u001b[0m data_path \u001b[38;5;241m=\u001b[39m \u001b[38;5;124m'\u001b[39m\u001b[38;5;124mdata/PM10_24HR_input.csv\u001b[39m\u001b[38;5;124m'\u001b[39m\n\u001b[0;32m      4\u001b[0m xgb_model_path \u001b[38;5;241m=\u001b[39m \u001b[38;5;124m'\u001b[39m\u001b[38;5;124mmodels/best_xgb_model2.pkl\u001b[39m\u001b[38;5;124m'\u001b[39m\n",
      "File \u001b[1;32m~\\GitHub\\Auckland_Council_PM10_Prediction\\PM10Prediction\\pm10_prediction\\__init__.py:3\u001b[0m\n\u001b[0;32m      1\u001b[0m \u001b[38;5;66;03m# __init__.py\u001b[39;00m\n\u001b[1;32m----> 3\u001b[0m \u001b[38;5;28;01mfrom\u001b[39;00m \u001b[38;5;21;01m.\u001b[39;00m\u001b[38;5;21;01mpredictor\u001b[39;00m \u001b[38;5;28;01mimport\u001b[39;00m PM10Predictor\n",
      "File \u001b[1;32m~\\GitHub\\Auckland_Council_PM10_Prediction\\PM10Prediction\\pm10_prediction\\predictor.py:136\u001b[0m\n\u001b[0;32m    133\u001b[0m gru_model_path \u001b[38;5;241m=\u001b[39m \u001b[38;5;124m'\u001b[39m\u001b[38;5;124mmodels/gru_model.h5\u001b[39m\u001b[38;5;124m'\u001b[39m\n\u001b[0;32m    135\u001b[0m predictor \u001b[38;5;241m=\u001b[39m PM10Predictor(xgb_model_path, svm_model_path, rf_model_path, lstm_model_path, gru_model_path)\n\u001b[1;32m--> 136\u001b[0m predictions, pm10_values \u001b[38;5;241m=\u001b[39m predictor\u001b[38;5;241m.\u001b[39mpredict_pm10_24hr_avg(data_path)\n\u001b[0;32m    137\u001b[0m \u001b[38;5;28mprint\u001b[39m(\u001b[38;5;124mf\u001b[39m\u001b[38;5;124m\"\u001b[39m\u001b[38;5;124mPredicted PM10 24hr avg value for \u001b[39m\u001b[38;5;132;01m{\u001b[39;00mpredictions[\u001b[38;5;124m'\u001b[39m\u001b[38;5;124mdate\u001b[39m\u001b[38;5;124m'\u001b[39m]\u001b[38;5;132;01m}\u001b[39;00m\u001b[38;5;124m:\u001b[39m\u001b[38;5;124m\"\u001b[39m)\n\u001b[0;32m    138\u001b[0m \u001b[38;5;28mprint\u001b[39m(\u001b[38;5;124mf\u001b[39m\u001b[38;5;124m\"\u001b[39m\u001b[38;5;124mXGBoost: \u001b[39m\u001b[38;5;132;01m{\u001b[39;00mpredictions[\u001b[38;5;124m'\u001b[39m\u001b[38;5;124mXGBoost\u001b[39m\u001b[38;5;124m'\u001b[39m]\u001b[38;5;132;01m}\u001b[39;00m\u001b[38;5;124m\"\u001b[39m)\n",
      "File \u001b[1;32m~\\GitHub\\Auckland_Council_PM10_Prediction\\PM10Prediction\\pm10_prediction\\predictor.py:61\u001b[0m, in \u001b[0;36mPM10Predictor.predict_pm10_24hr_avg\u001b[1;34m(self, data_path, num_features)\u001b[0m\n\u001b[0;32m     59\u001b[0m         \u001b[38;5;28mprint\u001b[39m(\u001b[38;5;124mf\u001b[39m\u001b[38;5;124m\"\u001b[39m\u001b[38;5;124mTarget column identified as: \u001b[39m\u001b[38;5;132;01m{\u001b[39;00mtarget_column\u001b[38;5;132;01m}\u001b[39;00m\u001b[38;5;124m\"\u001b[39m)\n\u001b[0;32m     60\u001b[0m     \u001b[38;5;28;01melse\u001b[39;00m:\n\u001b[1;32m---> 61\u001b[0m         \u001b[38;5;28;01mraise\u001b[39;00m \u001b[38;5;167;01mKeyError\u001b[39;00m(\u001b[38;5;124mf\u001b[39m\u001b[38;5;124m\"\u001b[39m\u001b[38;5;124mTarget column not found. Available columns: \u001b[39m\u001b[38;5;132;01m{\u001b[39;00mdata\u001b[38;5;241m.\u001b[39mcolumns\u001b[38;5;132;01m}\u001b[39;00m\u001b[38;5;124m\"\u001b[39m)\n\u001b[0;32m     63\u001b[0m \u001b[38;5;66;03m# Keep a copy of the target column for later visualization\u001b[39;00m\n\u001b[0;32m     64\u001b[0m pm10_copy \u001b[38;5;241m=\u001b[39m pm10_values\u001b[38;5;241m.\u001b[39mcopy()\n",
      "\u001b[1;31mKeyError\u001b[0m: \"Target column not found. Available columns: Index(['AC Penrose NO_MCG 24h average [µg/m³]',\\n       'AC Penrose NO2_MCG 24h average [µg/m³]',\\n       'AC Penrose NOX_MCG 24h average [µg/m³]',\\n       'AC Penrose PM2.5 24h average [µg/m³]', 'AC Penrose RH 24h average [%]',\\n       'AC Penrose TEMP 24h average [°C]', 'AC Penrose WSP 24h average [m/s]'],\\n      dtype='object')\""
     ]
    }
   ],
   "source": [
    "from pm10_prediction import PM10Predictor\n",
    "\n",
    "data_path = 'data/PM10_24HR_input.csv'\n",
    "xgb_model_path = 'models/best_xgb_model2.pkl'\n",
    "svm_model_path = 'models/best_svm_model.pkl'\n",
    "rf_model_path = 'models/best_rf_model.pkl'\n",
    "lstm_model_path = 'models/lstm_model.keras'\n",
    "gru_model_path = 'models/gru_model.h5'\n",
    "\n",
    "predictor = PM10Predictor(xgb_model_path, svm_model_path, rf_model_path, lstm_model_path, gru_model_path)\n",
    "predictions, pm10_values = predictor.predict_pm10_24hr_avg(data_path)\n",
    "print(f\"Predicted PM10 24hr avg value for {predictions['date']}:\")\n",
    "print(f\"XGBoost: {predictions['XGBoost']}\")\n",
    "print(f\"SVM: {predictions['SVM']}\")\n",
    "print(f\"Random Forest: {predictions['Random Forest']}\")\n",
    "print(f\"LSTM: {predictions['LSTM']}\")\n",
    "print(f\"GRU: {predictions['GRU']}\")\n",
    "\n",
    "predictor.plot_pm10_with_predictions(pm10_values, predictions)\n"
   ]
  },
  {
   "cell_type": "code",
   "execution_count": null,
   "id": "81d2093e",
   "metadata": {},
   "outputs": [],
   "source": []
  },
  {
   "cell_type": "code",
   "execution_count": null,
   "id": "86b12891",
   "metadata": {},
   "outputs": [],
   "source": []
  }
 ],
 "metadata": {
  "kernelspec": {
   "display_name": "Python 3 (ipykernel)",
   "language": "python",
   "name": "python3"
  },
  "language_info": {
   "codemirror_mode": {
    "name": "ipython",
    "version": 3
   },
   "file_extension": ".py",
   "mimetype": "text/x-python",
   "name": "python",
   "nbconvert_exporter": "python",
   "pygments_lexer": "ipython3",
   "version": "3.12.4"
  }
 },
 "nbformat": 4,
 "nbformat_minor": 5
}
