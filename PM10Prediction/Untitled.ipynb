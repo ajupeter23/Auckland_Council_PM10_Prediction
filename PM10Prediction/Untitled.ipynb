{
 "cells": [
  {
   "cell_type": "code",
   "execution_count": 1,
   "id": "1d42b555",
   "metadata": {},
   "outputs": [
    {
     "ename": "ImportError",
     "evalue": "cannot import name 'PM10Predictor' from 'pm10_prediction' (unknown location)",
     "output_type": "error",
     "traceback": [
      "\u001b[1;31m---------------------------------------------------------------------------\u001b[0m",
      "\u001b[1;31mImportError\u001b[0m                               Traceback (most recent call last)",
      "Cell \u001b[1;32mIn[1], line 1\u001b[0m\n\u001b[1;32m----> 1\u001b[0m \u001b[38;5;28;01mfrom\u001b[39;00m \u001b[38;5;21;01mpm10_prediction\u001b[39;00m \u001b[38;5;28;01mimport\u001b[39;00m PM10Predictor\n\u001b[0;32m      3\u001b[0m data_path \u001b[38;5;241m=\u001b[39m \u001b[38;5;124m'\u001b[39m\u001b[38;5;124mdata/PM10_24HR_output.csv\u001b[39m\u001b[38;5;124m'\u001b[39m\n\u001b[0;32m      4\u001b[0m xgb_model_path \u001b[38;5;241m=\u001b[39m \u001b[38;5;124m'\u001b[39m\u001b[38;5;124mmodels/best_xgb_model2.pkl\u001b[39m\u001b[38;5;124m'\u001b[39m\n",
      "\u001b[1;31mImportError\u001b[0m: cannot import name 'PM10Predictor' from 'pm10_prediction' (unknown location)"
     ]
    }
   ],
   "source": [
    "from pm10_prediction import PM10Predictor\n",
    "\n",
    "data_path = 'data/PM10_24HR_output.csv'\n",
    "xgb_model_path = 'models/best_xgb_model2.pkl'\n",
    "svm_model_path = 'models/best_svm_model.pkl'\n",
    "rf_model_path = 'models/best_rf_model.pkl'\n",
    "lstm_model_path = 'models/lstm_model.keras'\n",
    "gru_model_path = 'models/gru_model.h5'\n",
    "\n",
    "predictor = PM10Predictor(xgb_model_path, svm_model_path, rf_model_path, lstm_model_path, gru_model_path)\n",
    "predictions, pm10_values = predictor.predict_pm10_24hr_avg(data_path)\n",
    "print(f\"Predicted PM10 24hr avg value for {predictions['date']}:\")\n",
    "print(f\"XGBoost: {predictions['XGBoost']}\")\n",
    "print(f\"SVM: {predictions['SVM']}\")\n",
    "print(f\"Random Forest: {predictions['Random Forest']}\")\n",
    "print(f\"LSTM: {predictions['LSTM']}\")\n",
    "print(f\"GRU: {predictions['GRU']}\")\n",
    "\n",
    "predictor.plot_pm10_with_predictions(pm10_values, predictions)\n"
   ]
  },
  {
   "cell_type": "code",
   "execution_count": null,
   "id": "193041a1",
   "metadata": {},
   "outputs": [],
   "source": []
  }
 ],
 "metadata": {
  "kernelspec": {
   "display_name": "Python 3 (ipykernel)",
   "language": "python",
   "name": "python3"
  },
  "language_info": {
   "codemirror_mode": {
    "name": "ipython",
    "version": 3
   },
   "file_extension": ".py",
   "mimetype": "text/x-python",
   "name": "python",
   "nbconvert_exporter": "python",
   "pygments_lexer": "ipython3",
   "version": "3.11.5"
  }
 },
 "nbformat": 4,
 "nbformat_minor": 5
}
